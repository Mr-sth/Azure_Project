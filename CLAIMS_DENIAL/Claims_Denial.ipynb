{
  "nbformat": 4,
  "nbformat_minor": 0,
  "metadata": {
    "colab": {
      "provenance": []
    },
    "kernelspec": {
      "name": "python3",
      "display_name": "Python 3"
    },
    "language_info": {
      "name": "python"
    }
  },
  "cells": [
    {
      "cell_type": "code",
      "source": [
        "import pandas as pd\n",
        "from sklearn.model_selection import train_test_split\n",
        "from sklearn.preprocessing import LabelEncoder, StandardScaler\n",
        "from sklearn.linear_model import LogisticRegression\n",
        "from sklearn.metrics import accuracy_score\n",
        "\n",
        "# -----------------------------\n",
        "# 1. Load Data\n",
        "# -----------------------------\n",
        "df = pd.read_csv(\"/content/drive/MyDrive/GOOGLE COLAB/Dataset/Claims_Denial_Dataset.csv\")\n",
        "\n",
        "# Drop rows where ClaimStatus is missing (target variable)\n",
        "df = df.dropna(subset=[\"ClaimStatus\"])\n",
        "\n",
        "# -----------------------------\n",
        "# 2. Encode categorical variables\n",
        "# -----------------------------\n",
        "cat_cols = df.select_dtypes(include=[\"object\"]).columns\n",
        "\n",
        "encoders = {}\n",
        "for col in cat_cols:\n",
        "    le = LabelEncoder()\n",
        "    df[col] = le.fit_transform(df[col].astype(str))\n",
        "    encoders[col] = le\n",
        "\n",
        "# -----------------------------\n",
        "# 3. Define features & target\n",
        "# -----------------------------\n",
        "X = df.drop(\"ClaimStatus\", axis=1)\n",
        "y = df[\"ClaimStatus\"]\n",
        "\n",
        "# -----------------------------\n",
        "# 4. Train-test split\n",
        "# -----------------------------\n",
        "X_train, X_test, y_train, y_test = train_test_split(\n",
        "    X, y, test_size=0.3, random_state=42, stratify=y\n",
        ")\n",
        "\n",
        "# -----------------------------\n",
        "# 5. Scale numeric features\n",
        "# -----------------------------\n",
        "scaler = StandardScaler()\n",
        "X_train_scaled = scaler.fit_transform(X_train)\n",
        "X_test_scaled = scaler.transform(X_test)\n",
        "\n",
        "# -----------------------------\n",
        "# 6. Train model\n",
        "# -----------------------------\n",
        "model = LogisticRegression(max_iter=500, solver=\"lbfgs\")\n",
        "model.fit(X_train_scaled, y_train)\n",
        "\n",
        "# -----------------------------\n",
        "# 7. Evaluate\n",
        "# -----------------------------\n",
        "y_pred = model.predict(X_test_scaled)\n",
        "print(\"✅ Accuracy:\", accuracy_score(y_test, y_pred))\n",
        "\n",
        "# -----------------------------\n",
        "# 8. Predict probabilities\n",
        "# -----------------------------\n",
        "y_proba = model.predict_proba(X_test_scaled)[:, 1]\n",
        "\n",
        "# -----------------------------\n",
        "# 9. Build final output table\n",
        "# -----------------------------\n",
        "# Take original (non-encoded) values for readability\n",
        "X_test_original = df.loc[X_test.index].copy()\n",
        "\n",
        "results = pd.DataFrame({\n",
        "    \"ClaimID\": X_test_original[\"ClaimID\"],\n",
        "    \"Provider\": X_test_original[\"ProviderID\"],\n",
        "    \"Payer\": X_test_original[\"ProviderLocation\"],   # assuming this column is Payer\n",
        "    \"CPT\": X_test_original[\"ProcedureCode\"],\n",
        "    \"Predicted Risk\": y_proba.round(2),\n",
        "    \"Status\": [\"⚠️ High Risk\" if p >= 0.5 else \"✅ Low Risk\" for p in y_proba]\n",
        "})\n",
        "\n",
        "print(\"\\n--- Sample Predictions ---\\n\")\n",
        "print(results.head(10))\n"
      ],
      "metadata": {
        "colab": {
          "base_uri": "https://localhost:8080/"
        },
        "id": "s3PF9kDwCuBS",
        "outputId": "dc4ab1af-a7d2-4ad9-9a79-a7ccf573c401"
      },
      "execution_count": 2,
      "outputs": [
        {
          "output_type": "stream",
          "name": "stdout",
          "text": [
            "✅ Accuracy: 0.34296296296296297\n",
            "\n",
            "--- Sample Predictions ---\n",
            "\n",
            "      ClaimID  Provider  Payer   CPT  Predicted Risk      Status\n",
            "1109     2863      3333   1661  3667            0.32  ✅ Low Risk\n",
            "770      1122       248    602  1207            0.33  ✅ Low Risk\n",
            "1540     2504      1873   2378  3389            0.30  ✅ Low Risk\n",
            "4171      330      4492   2967  4362            0.34  ✅ Low Risk\n",
            "1136     1760      1123   1886  3317            0.33  ✅ Low Risk\n",
            "119      1539       467   2001  1204            0.36  ✅ Low Risk\n",
            "858      4256      4235     81  1654            0.29  ✅ Low Risk\n",
            "4122     1121      2862    442  2371            0.37  ✅ Low Risk\n",
            "287      1067      2807   1912   474            0.36  ✅ Low Risk\n",
            "2685     3867       678   2544  1840            0.32  ✅ Low Risk\n"
          ]
        }
      ]
    }
  ]
}