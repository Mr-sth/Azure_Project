{
  "nbformat": 4,
  "nbformat_minor": 0,
  "metadata": {
    "colab": {
      "provenance": []
    },
    "kernelspec": {
      "name": "python3",
      "display_name": "Python 3"
    },
    "language_info": {
      "name": "python"
    }
  },
  "cells": [
    {
      "cell_type": "markdown",
      "source": [
        "NEW CODE PRACTICE"
      ],
      "metadata": {
        "id": "rQDIcJ7mYMzf"
      }
    },
    {
      "cell_type": "code",
      "source": [
        "import pandas as pd\n",
        "\n",
        "#Load Beneficiaries (2008-2010)\n",
        "\n",
        "beneficiaries = []\n",
        "\n",
        "for year in [2008, 2009, 2010]:\n",
        "    filename = f\"/content/drive/MyDrive/GOOGLE COLAB/Dataset/New_Dataset_1/DE1_0_{year}_Beneficiary_Summary_File_Sample_20.csv\"\n",
        "    df = pd.read_csv(filename,dtype=str)\n",
        "    print(filename)\n",
        "    df['Year']=year\n",
        "    beneficiaries.append(df)\n",
        "beneficiaries = pd.concat(beneficiaries, ignore_index=True)\n",
        "beneficiaries.shape"
      ],
      "metadata": {
        "colab": {
          "base_uri": "https://localhost:8080/"
        },
        "id": "eTeeC6h8YCXN",
        "outputId": "886b6b14-51f2-456c-d5e7-ec95c16e6082"
      },
      "execution_count": 3,
      "outputs": [
        {
          "output_type": "stream",
          "name": "stdout",
          "text": [
            "/content/drive/MyDrive/GOOGLE COLAB/Dataset/New_Dataset_1/DE1_0_2008_Beneficiary_Summary_File_Sample_20.csv\n",
            "/content/drive/MyDrive/GOOGLE COLAB/Dataset/New_Dataset_1/DE1_0_2009_Beneficiary_Summary_File_Sample_20.csv\n",
            "/content/drive/MyDrive/GOOGLE COLAB/Dataset/New_Dataset_1/DE1_0_2010_Beneficiary_Summary_File_Sample_20.csv\n"
          ]
        },
        {
          "output_type": "execute_result",
          "data": {
            "text/plain": [
              "(343827, 33)"
            ]
          },
          "metadata": {},
          "execution_count": 3
        }
      ]
    },
    {
      "cell_type": "code",
      "source": [
        "#Load Carrier Files\n",
        "\n",
        "df_carrier = pd.read_csv(\"/content/drive/MyDrive/GOOGLE COLAB/Dataset/New_Dataset_1/DE1_0_2008_to_2010_Carrier_Claims_Sample_20A_1 - Copy-csv.csv\", dtype=str)\n",
        "df_carrier = df_carrier.sample(n=343827, random_state=42)\n",
        "df_carrier.shape"
      ],
      "metadata": {
        "colab": {
          "base_uri": "https://localhost:8080/"
        },
        "id": "7NeY5oarYuio",
        "outputId": "58a0d854-4ba5-432d-b30a-92f887e1dbe3"
      },
      "execution_count": 4,
      "outputs": [
        {
          "output_type": "execute_result",
          "data": {
            "text/plain": [
              "(343827, 142)"
            ]
          },
          "metadata": {},
          "execution_count": 4
        }
      ]
    },
    {
      "cell_type": "code",
      "source": [
        "#Merging beneficary dataset\n",
        "df_carrier['Year'] = pd.to_datetime(df_carrier['CLM_FROM_DT'], errors='coerce').dt.year\n",
        "df = df_carrier.merge(beneficiaries, on=['DESYNPUF_ID'], how='left')\n",
        "print(\"Merged dataset:\", df.shape)"
      ],
      "metadata": {
        "colab": {
          "base_uri": "https://localhost:8080/"
        },
        "id": "B4AhgJ9YZgQJ",
        "outputId": "9813db29-f0c0-4006-a17c-4ddde5336d54"
      },
      "execution_count": 14,
      "outputs": [
        {
          "output_type": "stream",
          "name": "stdout",
          "text": [
            "Merged dataset: (1026402, 179)\n"
          ]
        }
      ]
    },
    {
      "cell_type": "code",
      "source": [
        "#Calculating age\n",
        "beneficiaries['Bene_Age'] = pd.to_numeric(beneficiaries['Year']) - pd.to_numeric(beneficiaries['BENE_BIRTH_DT'].str[:4],errors='coerce')"
      ],
      "metadata": {
        "id": "RvvG7lfqdLcf"
      },
      "execution_count": 8,
      "outputs": []
    },
    {
      "cell_type": "code",
      "source": [
        "# Sex 1=Male and 2=Female\n",
        "beneficiaries['Sex'] = beneficiaries['BENE_SEX_IDENT_CD'].map({'1': 'M', '2': 'F'})"
      ],
      "metadata": {
        "id": "_uC4A3mn8fa2"
      },
      "execution_count": 9,
      "outputs": []
    },
    {
      "cell_type": "code",
      "source": [
        "# Counting the chronics counts\n",
        "chronic_cols = [\n",
        "    'SP_ALZHDMTA', 'SP_CHF', 'SP_CHRNKIDN', 'SP_CNCR', 'SP_COPD',\n",
        "    'SP_DEPRESSN', 'SP_DIABETES', 'SP_ISCHMCHT', 'SP_OSTEOPRS',\n",
        "    'SP_RA_OA', 'SP_STRKETIA'\n",
        "]\n",
        "\n",
        "# Count how many chronic conditions = 1\n",
        "beneficiaries['CHRONIC_CNT'] = beneficiaries[chronic_cols].apply(lambda x: (x == '1').sum(), axis=1)\n"
      ],
      "metadata": {
        "id": "JMBC8XiRBHN8"
      },
      "execution_count": 10,
      "outputs": []
    },
    {
      "cell_type": "code",
      "source": [
        "# Total Coverage months\n",
        "beneficiaries['TOTAL_COVERAGE_MONS'] = (\n",
        "    beneficiaries['BENE_HI_CVRAGE_TOT_MONS'].astype(float) +\n",
        "    beneficiaries['BENE_SMI_CVRAGE_TOT_MONS'].astype(float) +\n",
        "    beneficiaries['BENE_HMO_CVRAGE_TOT_MONS'].astype(float) +\n",
        "    beneficiaries['PLAN_CVRG_MOS_NUM'].astype(float)\n",
        ")"
      ],
      "metadata": {
        "id": "oEdCl7_FF4Qd"
      },
      "execution_count": 11,
      "outputs": []
    },
    {
      "cell_type": "code",
      "source": [
        "#FEATURE ENGINEERING FOR CARRIER DATASET\n",
        "# Only one claims dataset has been used so no merge required.\n",
        "\n",
        "# Duration Calculation\n",
        "df_carrier['SERVICE_DURATION']= pd.to_numeric(df_carrier['CLM_THRU_DT'])-pd.to_numeric(df_carrier['CLM_FROM_DT'])\n",
        "#Output will be in the format of days\n",
        "\n",
        "df_carrier[['CLM_FROM_DT','CLM_THRU_DT','SERVICE_DURATION']]"
      ],
      "metadata": {
        "colab": {
          "base_uri": "https://localhost:8080/",
          "height": 424
        },
        "id": "PJavsY9tTOnJ",
        "outputId": "3ff8c65a-c3b2-4297-b1ea-18238912d54c"
      },
      "execution_count": 20,
      "outputs": [
        {
          "output_type": "execute_result",
          "data": {
            "text/plain": [
              "       CLM_FROM_DT CLM_THRU_DT  SERVICE_DURATION\n",
              "781974    20100329    20100329                 0\n",
              "937737    20101207    20101207                 0\n",
              "907828    20100721    20100721                 0\n",
              "784628    20081125    20081125                 0\n",
              "662460    20090127    20090127                 0\n",
              "...            ...         ...               ...\n",
              "135634    20081008    20081008                 0\n",
              "418581    20090404    20090404                 0\n",
              "78384     20090209    20090209                 0\n",
              "988273    20081107    20081107                 0\n",
              "476079    20090709    20090709                 0\n",
              "\n",
              "[343827 rows x 3 columns]"
            ],
            "text/html": [
              "\n",
              "  <div id=\"df-48650294-c71c-4f61-b2fd-d948b9f9a675\" class=\"colab-df-container\">\n",
              "    <div>\n",
              "<style scoped>\n",
              "    .dataframe tbody tr th:only-of-type {\n",
              "        vertical-align: middle;\n",
              "    }\n",
              "\n",
              "    .dataframe tbody tr th {\n",
              "        vertical-align: top;\n",
              "    }\n",
              "\n",
              "    .dataframe thead th {\n",
              "        text-align: right;\n",
              "    }\n",
              "</style>\n",
              "<table border=\"1\" class=\"dataframe\">\n",
              "  <thead>\n",
              "    <tr style=\"text-align: right;\">\n",
              "      <th></th>\n",
              "      <th>CLM_FROM_DT</th>\n",
              "      <th>CLM_THRU_DT</th>\n",
              "      <th>SERVICE_DURATION</th>\n",
              "    </tr>\n",
              "  </thead>\n",
              "  <tbody>\n",
              "    <tr>\n",
              "      <th>781974</th>\n",
              "      <td>20100329</td>\n",
              "      <td>20100329</td>\n",
              "      <td>0</td>\n",
              "    </tr>\n",
              "    <tr>\n",
              "      <th>937737</th>\n",
              "      <td>20101207</td>\n",
              "      <td>20101207</td>\n",
              "      <td>0</td>\n",
              "    </tr>\n",
              "    <tr>\n",
              "      <th>907828</th>\n",
              "      <td>20100721</td>\n",
              "      <td>20100721</td>\n",
              "      <td>0</td>\n",
              "    </tr>\n",
              "    <tr>\n",
              "      <th>784628</th>\n",
              "      <td>20081125</td>\n",
              "      <td>20081125</td>\n",
              "      <td>0</td>\n",
              "    </tr>\n",
              "    <tr>\n",
              "      <th>662460</th>\n",
              "      <td>20090127</td>\n",
              "      <td>20090127</td>\n",
              "      <td>0</td>\n",
              "    </tr>\n",
              "    <tr>\n",
              "      <th>...</th>\n",
              "      <td>...</td>\n",
              "      <td>...</td>\n",
              "      <td>...</td>\n",
              "    </tr>\n",
              "    <tr>\n",
              "      <th>135634</th>\n",
              "      <td>20081008</td>\n",
              "      <td>20081008</td>\n",
              "      <td>0</td>\n",
              "    </tr>\n",
              "    <tr>\n",
              "      <th>418581</th>\n",
              "      <td>20090404</td>\n",
              "      <td>20090404</td>\n",
              "      <td>0</td>\n",
              "    </tr>\n",
              "    <tr>\n",
              "      <th>78384</th>\n",
              "      <td>20090209</td>\n",
              "      <td>20090209</td>\n",
              "      <td>0</td>\n",
              "    </tr>\n",
              "    <tr>\n",
              "      <th>988273</th>\n",
              "      <td>20081107</td>\n",
              "      <td>20081107</td>\n",
              "      <td>0</td>\n",
              "    </tr>\n",
              "    <tr>\n",
              "      <th>476079</th>\n",
              "      <td>20090709</td>\n",
              "      <td>20090709</td>\n",
              "      <td>0</td>\n",
              "    </tr>\n",
              "  </tbody>\n",
              "</table>\n",
              "<p>343827 rows × 3 columns</p>\n",
              "</div>\n",
              "    <div class=\"colab-df-buttons\">\n",
              "\n",
              "  <div class=\"colab-df-container\">\n",
              "    <button class=\"colab-df-convert\" onclick=\"convertToInteractive('df-48650294-c71c-4f61-b2fd-d948b9f9a675')\"\n",
              "            title=\"Convert this dataframe to an interactive table.\"\n",
              "            style=\"display:none;\">\n",
              "\n",
              "  <svg xmlns=\"http://www.w3.org/2000/svg\" height=\"24px\" viewBox=\"0 -960 960 960\">\n",
              "    <path d=\"M120-120v-720h720v720H120Zm60-500h600v-160H180v160Zm220 220h160v-160H400v160Zm0 220h160v-160H400v160ZM180-400h160v-160H180v160Zm440 0h160v-160H620v160ZM180-180h160v-160H180v160Zm440 0h160v-160H620v160Z\"/>\n",
              "  </svg>\n",
              "    </button>\n",
              "\n",
              "  <style>\n",
              "    .colab-df-container {\n",
              "      display:flex;\n",
              "      gap: 12px;\n",
              "    }\n",
              "\n",
              "    .colab-df-convert {\n",
              "      background-color: #E8F0FE;\n",
              "      border: none;\n",
              "      border-radius: 50%;\n",
              "      cursor: pointer;\n",
              "      display: none;\n",
              "      fill: #1967D2;\n",
              "      height: 32px;\n",
              "      padding: 0 0 0 0;\n",
              "      width: 32px;\n",
              "    }\n",
              "\n",
              "    .colab-df-convert:hover {\n",
              "      background-color: #E2EBFA;\n",
              "      box-shadow: 0px 1px 2px rgba(60, 64, 67, 0.3), 0px 1px 3px 1px rgba(60, 64, 67, 0.15);\n",
              "      fill: #174EA6;\n",
              "    }\n",
              "\n",
              "    .colab-df-buttons div {\n",
              "      margin-bottom: 4px;\n",
              "    }\n",
              "\n",
              "    [theme=dark] .colab-df-convert {\n",
              "      background-color: #3B4455;\n",
              "      fill: #D2E3FC;\n",
              "    }\n",
              "\n",
              "    [theme=dark] .colab-df-convert:hover {\n",
              "      background-color: #434B5C;\n",
              "      box-shadow: 0px 1px 3px 1px rgba(0, 0, 0, 0.15);\n",
              "      filter: drop-shadow(0px 1px 2px rgba(0, 0, 0, 0.3));\n",
              "      fill: #FFFFFF;\n",
              "    }\n",
              "  </style>\n",
              "\n",
              "    <script>\n",
              "      const buttonEl =\n",
              "        document.querySelector('#df-48650294-c71c-4f61-b2fd-d948b9f9a675 button.colab-df-convert');\n",
              "      buttonEl.style.display =\n",
              "        google.colab.kernel.accessAllowed ? 'block' : 'none';\n",
              "\n",
              "      async function convertToInteractive(key) {\n",
              "        const element = document.querySelector('#df-48650294-c71c-4f61-b2fd-d948b9f9a675');\n",
              "        const dataTable =\n",
              "          await google.colab.kernel.invokeFunction('convertToInteractive',\n",
              "                                                    [key], {});\n",
              "        if (!dataTable) return;\n",
              "\n",
              "        const docLinkHtml = 'Like what you see? Visit the ' +\n",
              "          '<a target=\"_blank\" href=https://colab.research.google.com/notebooks/data_table.ipynb>data table notebook</a>'\n",
              "          + ' to learn more about interactive tables.';\n",
              "        element.innerHTML = '';\n",
              "        dataTable['output_type'] = 'display_data';\n",
              "        await google.colab.output.renderOutput(dataTable, element);\n",
              "        const docLink = document.createElement('div');\n",
              "        docLink.innerHTML = docLinkHtml;\n",
              "        element.appendChild(docLink);\n",
              "      }\n",
              "    </script>\n",
              "  </div>\n",
              "\n",
              "\n",
              "    <div id=\"df-97165e6a-9e79-4109-a13f-e549ab91d147\">\n",
              "      <button class=\"colab-df-quickchart\" onclick=\"quickchart('df-97165e6a-9e79-4109-a13f-e549ab91d147')\"\n",
              "                title=\"Suggest charts\"\n",
              "                style=\"display:none;\">\n",
              "\n",
              "<svg xmlns=\"http://www.w3.org/2000/svg\" height=\"24px\"viewBox=\"0 0 24 24\"\n",
              "     width=\"24px\">\n",
              "    <g>\n",
              "        <path d=\"M19 3H5c-1.1 0-2 .9-2 2v14c0 1.1.9 2 2 2h14c1.1 0 2-.9 2-2V5c0-1.1-.9-2-2-2zM9 17H7v-7h2v7zm4 0h-2V7h2v10zm4 0h-2v-4h2v4z\"/>\n",
              "    </g>\n",
              "</svg>\n",
              "      </button>\n",
              "\n",
              "<style>\n",
              "  .colab-df-quickchart {\n",
              "      --bg-color: #E8F0FE;\n",
              "      --fill-color: #1967D2;\n",
              "      --hover-bg-color: #E2EBFA;\n",
              "      --hover-fill-color: #174EA6;\n",
              "      --disabled-fill-color: #AAA;\n",
              "      --disabled-bg-color: #DDD;\n",
              "  }\n",
              "\n",
              "  [theme=dark] .colab-df-quickchart {\n",
              "      --bg-color: #3B4455;\n",
              "      --fill-color: #D2E3FC;\n",
              "      --hover-bg-color: #434B5C;\n",
              "      --hover-fill-color: #FFFFFF;\n",
              "      --disabled-bg-color: #3B4455;\n",
              "      --disabled-fill-color: #666;\n",
              "  }\n",
              "\n",
              "  .colab-df-quickchart {\n",
              "    background-color: var(--bg-color);\n",
              "    border: none;\n",
              "    border-radius: 50%;\n",
              "    cursor: pointer;\n",
              "    display: none;\n",
              "    fill: var(--fill-color);\n",
              "    height: 32px;\n",
              "    padding: 0;\n",
              "    width: 32px;\n",
              "  }\n",
              "\n",
              "  .colab-df-quickchart:hover {\n",
              "    background-color: var(--hover-bg-color);\n",
              "    box-shadow: 0 1px 2px rgba(60, 64, 67, 0.3), 0 1px 3px 1px rgba(60, 64, 67, 0.15);\n",
              "    fill: var(--button-hover-fill-color);\n",
              "  }\n",
              "\n",
              "  .colab-df-quickchart-complete:disabled,\n",
              "  .colab-df-quickchart-complete:disabled:hover {\n",
              "    background-color: var(--disabled-bg-color);\n",
              "    fill: var(--disabled-fill-color);\n",
              "    box-shadow: none;\n",
              "  }\n",
              "\n",
              "  .colab-df-spinner {\n",
              "    border: 2px solid var(--fill-color);\n",
              "    border-color: transparent;\n",
              "    border-bottom-color: var(--fill-color);\n",
              "    animation:\n",
              "      spin 1s steps(1) infinite;\n",
              "  }\n",
              "\n",
              "  @keyframes spin {\n",
              "    0% {\n",
              "      border-color: transparent;\n",
              "      border-bottom-color: var(--fill-color);\n",
              "      border-left-color: var(--fill-color);\n",
              "    }\n",
              "    20% {\n",
              "      border-color: transparent;\n",
              "      border-left-color: var(--fill-color);\n",
              "      border-top-color: var(--fill-color);\n",
              "    }\n",
              "    30% {\n",
              "      border-color: transparent;\n",
              "      border-left-color: var(--fill-color);\n",
              "      border-top-color: var(--fill-color);\n",
              "      border-right-color: var(--fill-color);\n",
              "    }\n",
              "    40% {\n",
              "      border-color: transparent;\n",
              "      border-right-color: var(--fill-color);\n",
              "      border-top-color: var(--fill-color);\n",
              "    }\n",
              "    60% {\n",
              "      border-color: transparent;\n",
              "      border-right-color: var(--fill-color);\n",
              "    }\n",
              "    80% {\n",
              "      border-color: transparent;\n",
              "      border-right-color: var(--fill-color);\n",
              "      border-bottom-color: var(--fill-color);\n",
              "    }\n",
              "    90% {\n",
              "      border-color: transparent;\n",
              "      border-bottom-color: var(--fill-color);\n",
              "    }\n",
              "  }\n",
              "</style>\n",
              "\n",
              "      <script>\n",
              "        async function quickchart(key) {\n",
              "          const quickchartButtonEl =\n",
              "            document.querySelector('#' + key + ' button');\n",
              "          quickchartButtonEl.disabled = true;  // To prevent multiple clicks.\n",
              "          quickchartButtonEl.classList.add('colab-df-spinner');\n",
              "          try {\n",
              "            const charts = await google.colab.kernel.invokeFunction(\n",
              "                'suggestCharts', [key], {});\n",
              "          } catch (error) {\n",
              "            console.error('Error during call to suggestCharts:', error);\n",
              "          }\n",
              "          quickchartButtonEl.classList.remove('colab-df-spinner');\n",
              "          quickchartButtonEl.classList.add('colab-df-quickchart-complete');\n",
              "        }\n",
              "        (() => {\n",
              "          let quickchartButtonEl =\n",
              "            document.querySelector('#df-97165e6a-9e79-4109-a13f-e549ab91d147 button');\n",
              "          quickchartButtonEl.style.display =\n",
              "            google.colab.kernel.accessAllowed ? 'block' : 'none';\n",
              "        })();\n",
              "      </script>\n",
              "    </div>\n",
              "\n",
              "    </div>\n",
              "  </div>\n"
            ],
            "application/vnd.google.colaboratory.intrinsic+json": {
              "type": "dataframe"
            }
          },
          "metadata": {},
          "execution_count": 20
        }
      ]
    },
    {
      "cell_type": "code",
      "source": [],
      "metadata": {
        "id": "VjsKy88-XzCL"
      },
      "execution_count": null,
      "outputs": []
    }
  ]
}